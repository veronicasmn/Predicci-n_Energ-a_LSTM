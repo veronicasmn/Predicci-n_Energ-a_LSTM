{
  "nbformat": 4,
  "nbformat_minor": 0,
  "metadata": {
    "colab": {
      "provenance": []
    },
    "kernelspec": {
      "name": "python3",
      "display_name": "Python 3"
    },
    "language_info": {
      "name": "python"
    }
  },
  "cells": [
    {
      "cell_type": "markdown",
      "source": [
        "**EJRECICIO PUNTUABLE.** crear en un notebook de jupyter un modelo basado en LSTMs para predecir el precio de la energía de cada una de las próximas 12 horas, del documento csv. que te adjunto. El entregable debe ser el fichero ipynb con las ejecuciones, los comentarios y las conclusiones.\n",
        "\n",
        "Condiciones:\n",
        "\n",
        "El KPI de medición de bondad del modelo es el MSE de las predicciones de las 12h próximas horas.\n",
        "\n",
        "El dataset de test corresponde a los datos con índice 9000 y superior y debéis calcular el MSE con estos datos\n",
        "\n",
        "Los datos con indices 0-9000 los podéis dividir en train i validación como queráis-"
      ],
      "metadata": {
        "id": "V0YFMw6rlpaK"
      }
    },
    {
      "cell_type": "markdown",
      "source": [
        "Importación de librerías"
      ],
      "metadata": {
        "id": "_jZlQ1MolFI5"
      }
    },
    {
      "cell_type": "code",
      "execution_count": null,
      "metadata": {
        "id": "5R-RUSeZW38I"
      },
      "outputs": [],
      "source": [
        "import numpy as np\n",
        "import pandas as pd\n",
        "from sklearn.preprocessing import MinMaxScaler\n",
        "from keras.models import Sequential\n",
        "from keras.layers import LSTM, Dense\n",
        "from keras.optimizers import Adam\n",
        "from keras.layers import Dropout\n",
        "import matplotlib.pyplot as plt"
      ]
    },
    {
      "cell_type": "markdown",
      "source": [
        "**1. Carga de datos**"
      ],
      "metadata": {
        "id": "ujqG3v8_lKiY"
      }
    },
    {
      "cell_type": "code",
      "source": [
        "# Load the dataset\n",
        "data = pd.read_csv('energy_price_2022.csv')"
      ],
      "metadata": {
        "id": "RSJHJ1b0bdAi"
      },
      "execution_count": null,
      "outputs": []
    },
    {
      "cell_type": "markdown",
      "source": [
        "**2. Preparación de datos**\n",
        "\n",
        "Ajusta los nombres de las columnas y convierte el campo de fecha y hora al formato adecuado."
      ],
      "metadata": {
        "id": "C44JGuk6lSSv"
      }
    },
    {
      "cell_type": "code",
      "source": [
        "# Adjust column names correctly and parse datetime\n",
        "data.columns = ['date', 'UTC', 'Price']\n",
        "data['date_UTC'] = data['date'] + ' ' + data['UTC']\n",
        "data['date_UTC'] = pd.to_datetime(data['date_UTC'], format='%d/%m/%Y %H:%M')\n",
        "data.drop(columns=['date', 'UTC'], inplace=True)\n",
        "data.set_index('date_UTC', inplace=True)"
      ],
      "metadata": {
        "id": "eLNKKifBbgnS"
      },
      "execution_count": null,
      "outputs": []
    },
    {
      "cell_type": "markdown",
      "source": [
        "**3.Creación de Características Desfasadas**  \n",
        "\n",
        "Crea columnas de precios desfasados para las próximas 12 horas."
      ],
      "metadata": {
        "id": "GFVKsQFnlcBA"
      }
    },
    {
      "cell_type": "code",
      "source": [
        "# Create lagged features for the next 12 hours\n",
        "for i in range(1, 13):\n",
        "    data[f'Price_t+{i}'] = data['Price'].shift(-i)\n",
        "\n",
        "data.dropna(inplace=True)"
      ],
      "metadata": {
        "id": "6pi3UNb8bnuR"
      },
      "execution_count": null,
      "outputs": []
    },
    {
      "cell_type": "markdown",
      "source": [
        "**4.Normalización de Datos**  \n",
        "Normaliza los datos de precios usando MinMaxScaler.\n"
      ],
      "metadata": {
        "id": "haLfHgBBmHGQ"
      }
    },
    {
      "cell_type": "code",
      "source": [
        "# Normalize the data\n",
        "scaler = MinMaxScaler()\n",
        "scaled_data = scaler.fit_transform(data)\n",
        "scaled_data = pd.DataFrame(scaled_data, columns=data.columns, index=data.index)"
      ],
      "metadata": {
        "id": "clOq2L9rbqay"
      },
      "execution_count": null,
      "outputs": []
    },
    {
      "cell_type": "markdown",
      "source": [
        "**5.Generación de Secuencias**  \n",
        "Genera secuencias de entrada y salida para el modelo LSTM.\n"
      ],
      "metadata": {
        "id": "kh1R9R-AmyqZ"
      }
    },
    {
      "cell_type": "code",
      "source": [
        "# Function to create sequences\n",
        "def create_sequences(data, seq_length):\n",
        "    X = []\n",
        "    y = []\n",
        "    for i in range(len(data) - seq_length):\n",
        "        X.append(data[i:i + seq_length, :-12])\n",
        "        y.append(data[i + seq_length - 1, -12:])\n",
        "    return np.array(X), np.array(y)"
      ],
      "metadata": {
        "id": "hPsBED71bsMq"
      },
      "execution_count": null,
      "outputs": []
    },
    {
      "cell_type": "markdown",
      "source": [
        "**6. División de Datos**  \n",
        "Divide los datos en conjuntos de entrenamiento, validación y prueba.\n"
      ],
      "metadata": {
        "id": "XoLivJOKm36Q"
      }
    },
    {
      "cell_type": "code",
      "source": [
        "# Define sequence length\n",
        "seq_length = 24"
      ],
      "metadata": {
        "id": "3QrgFD77bwf8"
      },
      "execution_count": null,
      "outputs": []
    },
    {
      "cell_type": "code",
      "source": [
        "# Split the data\n",
        "train_data = scaled_data.iloc[:9000]\n",
        "test_data = scaled_data.iloc[9000:]\n",
        "X_train, y_train = create_sequences(train_data.values, seq_length)\n",
        "X_test, y_test = create_sequences(test_data.values, seq_length)\n"
      ],
      "metadata": {
        "id": "n0x0xUmNbx6E"
      },
      "execution_count": null,
      "outputs": []
    },
    {
      "cell_type": "code",
      "source": [
        "# Further split training data into training and validation sets\n",
        "split_index = int(X_train.shape[0] * 0.8)\n",
        "X_valid, y_valid = X_train[split_index:], y_train[split_index:]\n",
        "X_train, y_train = X_train[:split_index], y_train[:split_index]"
      ],
      "metadata": {
        "id": "SwCQ5O-qbzSq"
      },
      "execution_count": null,
      "outputs": []
    },
    {
      "cell_type": "markdown",
      "source": [
        "**7. Definición del Modelo LSTM**  \n",
        "Define la arquitectura del modelo LSTM.\n"
      ],
      "metadata": {
        "id": "xwxQjUm7nIwx"
      }
    },
    {
      "cell_type": "code",
      "source": [
        "# Define the LSTM model\n",
        "model = Sequential()\n",
        "model.add(LSTM(50, return_sequences=True, input_shape=(seq_length, 1)))\n",
        "model.add(LSTM(50))\n",
        "model.add(Dense(12))"
      ],
      "metadata": {
        "id": "k94YjbWMb00H"
      },
      "execution_count": null,
      "outputs": []
    },
    {
      "cell_type": "code",
      "source": [
        "# Compile the model\n",
        "model.compile(optimizer=Adam(learning_rate=0.001), loss='mse')\n"
      ],
      "metadata": {
        "id": "iwEO6d8vb2sS"
      },
      "execution_count": null,
      "outputs": []
    },
    {
      "cell_type": "markdown",
      "source": [
        "**8. Entrenamiento del Modelo LSTM**  \n",
        "Entrena el modelo LSTM usando los datos de entrenamiento y validación.\n"
      ],
      "metadata": {
        "id": "fUuitSY9nckJ"
      }
    },
    {
      "cell_type": "code",
      "source": [
        "# Train the model\n",
        "history = model.fit(X_train, y_train, epochs=20, batch_size=32, validation_data=(X_valid, y_valid))\n"
      ],
      "metadata": {
        "colab": {
          "base_uri": "https://localhost:8080/"
        },
        "id": "JA26OIatb4IV",
        "outputId": "2d556856-f8b8-44ff-baf0-b4cf3b79581e"
      },
      "execution_count": null,
      "outputs": [
        {
          "output_type": "stream",
          "name": "stdout",
          "text": [
            "Epoch 1/20\n",
            "225/225 [==============================] - 11s 28ms/step - loss: 0.0285 - val_loss: 0.0184\n",
            "Epoch 2/20\n",
            "225/225 [==============================] - 6s 26ms/step - loss: 0.0146 - val_loss: 0.0183\n",
            "Epoch 3/20\n",
            "225/225 [==============================] - 4s 20ms/step - loss: 0.0142 - val_loss: 0.0175\n",
            "Epoch 4/20\n",
            "225/225 [==============================] - 5s 23ms/step - loss: 0.0132 - val_loss: 0.0153\n",
            "Epoch 5/20\n",
            "225/225 [==============================] - 5s 24ms/step - loss: 0.0118 - val_loss: 0.0132\n",
            "Epoch 6/20\n",
            "225/225 [==============================] - 5s 21ms/step - loss: 0.0107 - val_loss: 0.0129\n",
            "Epoch 7/20\n",
            "225/225 [==============================] - 6s 27ms/step - loss: 0.0097 - val_loss: 0.0121\n",
            "Epoch 8/20\n",
            "225/225 [==============================] - 5s 21ms/step - loss: 0.0090 - val_loss: 0.0117\n",
            "Epoch 9/20\n",
            "225/225 [==============================] - 5s 21ms/step - loss: 0.0083 - val_loss: 0.0104\n",
            "Epoch 10/20\n",
            "225/225 [==============================] - 6s 26ms/step - loss: 0.0080 - val_loss: 0.0108\n",
            "Epoch 11/20\n",
            "225/225 [==============================] - 4s 20ms/step - loss: 0.0078 - val_loss: 0.0097\n",
            "Epoch 12/20\n",
            "225/225 [==============================] - 5s 23ms/step - loss: 0.0075 - val_loss: 0.0099\n",
            "Epoch 13/20\n",
            "225/225 [==============================] - 5s 24ms/step - loss: 0.0072 - val_loss: 0.0090\n",
            "Epoch 14/20\n",
            "225/225 [==============================] - 5s 21ms/step - loss: 0.0071 - val_loss: 0.0089\n",
            "Epoch 15/20\n",
            "225/225 [==============================] - 6s 27ms/step - loss: 0.0070 - val_loss: 0.0089\n",
            "Epoch 16/20\n",
            "225/225 [==============================] - 5s 21ms/step - loss: 0.0069 - val_loss: 0.0087\n",
            "Epoch 17/20\n",
            "225/225 [==============================] - 5s 21ms/step - loss: 0.0069 - val_loss: 0.0084\n",
            "Epoch 18/20\n",
            "225/225 [==============================] - 7s 30ms/step - loss: 0.0067 - val_loss: 0.0093\n",
            "Epoch 19/20\n",
            "225/225 [==============================] - 5s 20ms/step - loss: 0.0067 - val_loss: 0.0087\n",
            "Epoch 20/20\n",
            "225/225 [==============================] - 5s 24ms/step - loss: 0.0066 - val_loss: 0.0099\n"
          ]
        }
      ]
    },
    {
      "cell_type": "markdown",
      "source": [
        "**9. Evaluación del Modelo LSTM**  \n",
        "Evalúa el modelo LSTM en el conjunto de prueba y calcula el MSE.\n"
      ],
      "metadata": {
        "id": "OS0eKTY3nn-4"
      }
    },
    {
      "cell_type": "code",
      "source": [
        "# Evaluate the model on the test set\n",
        "mse = model.evaluate(X_test, y_test)\n",
        "print(f'Test MSE: {mse}')\n"
      ],
      "metadata": {
        "colab": {
          "base_uri": "https://localhost:8080/"
        },
        "id": "dsW1qvZQb5zS",
        "outputId": "c8dad8bd-eb33-4187-dc8b-a100d74d3d4f"
      },
      "execution_count": null,
      "outputs": [
        {
          "output_type": "stream",
          "name": "stdout",
          "text": [
            "80/80 [==============================] - 1s 7ms/step - loss: 0.0173\n",
            "Test MSE: 0.017278684303164482\n"
          ]
        }
      ]
    },
    {
      "cell_type": "markdown",
      "source": [
        "**10.Predicciones del Modelo LSTM**  \n",
        "Realiza predicciones usando el modelo LSTM entrenado.\n"
      ],
      "metadata": {
        "id": "eY3LQTYmn_vw"
      }
    },
    {
      "cell_type": "code",
      "source": [
        "# Make predictions\n",
        "predictions = model.predict(X_test)"
      ],
      "metadata": {
        "colab": {
          "base_uri": "https://localhost:8080/"
        },
        "id": "Kw4a81bNcXtD",
        "outputId": "718ffb15-e90f-4166-f72a-7eea73c731bd"
      },
      "execution_count": null,
      "outputs": [
        {
          "output_type": "stream",
          "name": "stdout",
          "text": [
            "80/80 [==============================] - 1s 6ms/step\n"
          ]
        }
      ]
    },
    {
      "cell_type": "markdown",
      "source": [
        "**11.Transformación Inversa de Predicciones**  \n",
        "Transforma inversamente las predicciones a su escala original.\n"
      ],
      "metadata": {
        "id": "Yrq2WAtXoKvx"
      }
    },
    {
      "cell_type": "code",
      "source": [
        "# Inverse transform the predictions\n",
        "predictions_extended = np.hstack((predictions, np.zeros((predictions.shape[0], len(data.columns) - 12))))\n",
        "predictions_inverse = scaler.inverse_transform(predictions_extended)[:, :12]"
      ],
      "metadata": {
        "id": "SZ12fkPZdL1y"
      },
      "execution_count": null,
      "outputs": []
    },
    {
      "cell_type": "code",
      "source": [
        "# Inverse transform the true values\n",
        "y_test_extended = np.hstack((y_test, np.zeros((y_test.shape[0], len(data.columns) - 12))))\n",
        "y_test_inverse = scaler.inverse_transform(y_test_extended)[:, :12]"
      ],
      "metadata": {
        "id": "gmNh4vDYdPOS"
      },
      "execution_count": null,
      "outputs": []
    },
    {
      "cell_type": "code",
      "source": [
        "# Calculate MSE on the true values\n",
        "mse_true = np.mean((predictions_inverse - y_test_inverse) ** 2)\n",
        "print(f'Test MSE on true values: {mse_true}')"
      ],
      "metadata": {
        "colab": {
          "base_uri": "https://localhost:8080/"
        },
        "id": "i5LIgisYdPjK",
        "outputId": "6df9278f-69ae-44f8-a230-6d0218b6a60f"
      },
      "execution_count": null,
      "outputs": [
        {
          "output_type": "stream",
          "name": "stdout",
          "text": [
            "Test MSE on true values: 124.98542016033271\n"
          ]
        }
      ]
    },
    {
      "cell_type": "markdown",
      "source": [
        "#### Una vez obtenido un primer resultado creamos un segundo que mejore el primero."
      ],
      "metadata": {
        "id": "JAKgmM_ad6wT"
      }
    },
    {
      "cell_type": "code",
      "source": [
        "# Define the improved LSTM model\n",
        "improved_model = Sequential()\n",
        "improved_model.add(LSTM(100, return_sequences=True, input_shape=(seq_length, 1)))\n",
        "improved_model.add(Dropout(0.2))\n",
        "improved_model.add(LSTM(100, return_sequences=True))\n",
        "improved_model.add(Dropout(0.2))\n",
        "improved_model.add(LSTM(100))\n",
        "improved_model.add(Dense(12))"
      ],
      "metadata": {
        "id": "eeyIKN4ud-b3"
      },
      "execution_count": null,
      "outputs": []
    },
    {
      "cell_type": "code",
      "source": [
        "# Compile the model with a lower learning rate\n",
        "improved_model.compile(optimizer=Adam(learning_rate=0.0005), loss='mse')"
      ],
      "metadata": {
        "id": "9JtQD1dReA29"
      },
      "execution_count": null,
      "outputs": []
    },
    {
      "cell_type": "code",
      "source": [
        "# Train the model\n",
        "history_improved = improved_model.fit(X_train, y_train, epochs=50, batch_size=64, validation_data=(X_valid, y_valid))"
      ],
      "metadata": {
        "colab": {
          "base_uri": "https://localhost:8080/"
        },
        "id": "_-I0ZKx9eCsv",
        "outputId": "27bca0f1-0097-468e-f761-2a446aa45da2"
      },
      "execution_count": null,
      "outputs": [
        {
          "output_type": "stream",
          "name": "stdout",
          "text": [
            "Epoch 1/50\n",
            "113/113 [==============================] - 23s 143ms/step - loss: 0.0443 - val_loss: 0.0189\n",
            "Epoch 2/50\n",
            "113/113 [==============================] - 15s 131ms/step - loss: 0.0153 - val_loss: 0.0185\n",
            "Epoch 3/50\n",
            "113/113 [==============================] - 15s 131ms/step - loss: 0.0152 - val_loss: 0.0183\n",
            "Epoch 4/50\n",
            "113/113 [==============================] - 15s 137ms/step - loss: 0.0150 - val_loss: 0.0185\n",
            "Epoch 5/50\n",
            "113/113 [==============================] - 16s 138ms/step - loss: 0.0150 - val_loss: 0.0195\n",
            "Epoch 6/50\n",
            "113/113 [==============================] - 16s 143ms/step - loss: 0.0149 - val_loss: 0.0194\n",
            "Epoch 7/50\n",
            "113/113 [==============================] - 15s 136ms/step - loss: 0.0148 - val_loss: 0.0184\n",
            "Epoch 8/50\n",
            "113/113 [==============================] - 15s 136ms/step - loss: 0.0147 - val_loss: 0.0194\n",
            "Epoch 9/50\n",
            "113/113 [==============================] - 15s 132ms/step - loss: 0.0147 - val_loss: 0.0180\n",
            "Epoch 10/50\n",
            "113/113 [==============================] - 16s 139ms/step - loss: 0.0142 - val_loss: 0.0187\n",
            "Epoch 11/50\n",
            "113/113 [==============================] - 15s 130ms/step - loss: 0.0135 - val_loss: 0.0155\n",
            "Epoch 12/50\n",
            "113/113 [==============================] - 15s 129ms/step - loss: 0.0124 - val_loss: 0.0148\n",
            "Epoch 13/50\n",
            "113/113 [==============================] - 15s 133ms/step - loss: 0.0116 - val_loss: 0.0138\n",
            "Epoch 14/50\n",
            "113/113 [==============================] - 15s 134ms/step - loss: 0.0111 - val_loss: 0.0138\n",
            "Epoch 15/50\n",
            "113/113 [==============================] - 15s 135ms/step - loss: 0.0105 - val_loss: 0.0129\n",
            "Epoch 16/50\n",
            "113/113 [==============================] - 16s 142ms/step - loss: 0.0102 - val_loss: 0.0131\n",
            "Epoch 17/50\n",
            "113/113 [==============================] - 15s 134ms/step - loss: 0.0099 - val_loss: 0.0129\n",
            "Epoch 18/50\n",
            "113/113 [==============================] - 15s 130ms/step - loss: 0.0097 - val_loss: 0.0118\n",
            "Epoch 19/50\n",
            "113/113 [==============================] - 14s 128ms/step - loss: 0.0095 - val_loss: 0.0118\n",
            "Epoch 20/50\n",
            "113/113 [==============================] - 15s 129ms/step - loss: 0.0093 - val_loss: 0.0115\n",
            "Epoch 21/50\n",
            "113/113 [==============================] - 15s 130ms/step - loss: 0.0090 - val_loss: 0.0121\n",
            "Epoch 22/50\n",
            "113/113 [==============================] - 15s 131ms/step - loss: 0.0090 - val_loss: 0.0110\n",
            "Epoch 23/50\n",
            "113/113 [==============================] - 15s 131ms/step - loss: 0.0087 - val_loss: 0.0116\n",
            "Epoch 24/50\n",
            "113/113 [==============================] - 15s 131ms/step - loss: 0.0086 - val_loss: 0.0110\n",
            "Epoch 25/50\n",
            "113/113 [==============================] - 15s 131ms/step - loss: 0.0082 - val_loss: 0.0112\n",
            "Epoch 26/50\n",
            "113/113 [==============================] - 14s 128ms/step - loss: 0.0081 - val_loss: 0.0106\n",
            "Epoch 27/50\n",
            "113/113 [==============================] - 15s 129ms/step - loss: 0.0080 - val_loss: 0.0110\n",
            "Epoch 28/50\n",
            "113/113 [==============================] - 15s 130ms/step - loss: 0.0079 - val_loss: 0.0106\n",
            "Epoch 29/50\n",
            "113/113 [==============================] - 15s 131ms/step - loss: 0.0077 - val_loss: 0.0099\n",
            "Epoch 30/50\n",
            "113/113 [==============================] - 15s 130ms/step - loss: 0.0077 - val_loss: 0.0111\n",
            "Epoch 31/50\n",
            "113/113 [==============================] - 16s 141ms/step - loss: 0.0075 - val_loss: 0.0096\n",
            "Epoch 32/50\n",
            "113/113 [==============================] - 15s 132ms/step - loss: 0.0073 - val_loss: 0.0095\n",
            "Epoch 33/50\n",
            "113/113 [==============================] - 15s 130ms/step - loss: 0.0074 - val_loss: 0.0097\n",
            "Epoch 34/50\n",
            "113/113 [==============================] - 15s 132ms/step - loss: 0.0072 - val_loss: 0.0102\n",
            "Epoch 35/50\n",
            "113/113 [==============================] - 15s 132ms/step - loss: 0.0073 - val_loss: 0.0091\n",
            "Epoch 36/50\n",
            "113/113 [==============================] - 15s 134ms/step - loss: 0.0070 - val_loss: 0.0094\n",
            "Epoch 37/50\n",
            "113/113 [==============================] - 15s 132ms/step - loss: 0.0073 - val_loss: 0.0104\n",
            "Epoch 38/50\n",
            "113/113 [==============================] - 14s 128ms/step - loss: 0.0070 - val_loss: 0.0103\n",
            "Epoch 39/50\n",
            "113/113 [==============================] - 15s 131ms/step - loss: 0.0070 - val_loss: 0.0106\n",
            "Epoch 40/50\n",
            "113/113 [==============================] - 15s 130ms/step - loss: 0.0069 - val_loss: 0.0095\n",
            "Epoch 41/50\n",
            "113/113 [==============================] - 15s 131ms/step - loss: 0.0069 - val_loss: 0.0092\n",
            "Epoch 42/50\n",
            "113/113 [==============================] - 15s 134ms/step - loss: 0.0068 - val_loss: 0.0098\n",
            "Epoch 43/50\n",
            "113/113 [==============================] - 16s 145ms/step - loss: 0.0068 - val_loss: 0.0096\n",
            "Epoch 44/50\n",
            "113/113 [==============================] - 15s 131ms/step - loss: 0.0067 - val_loss: 0.0099\n",
            "Epoch 45/50\n",
            "113/113 [==============================] - 15s 134ms/step - loss: 0.0066 - val_loss: 0.0102\n",
            "Epoch 46/50\n",
            "113/113 [==============================] - 15s 133ms/step - loss: 0.0066 - val_loss: 0.0093\n",
            "Epoch 47/50\n",
            "113/113 [==============================] - 15s 134ms/step - loss: 0.0065 - val_loss: 0.0092\n",
            "Epoch 48/50\n",
            "113/113 [==============================] - 15s 133ms/step - loss: 0.0066 - val_loss: 0.0099\n",
            "Epoch 49/50\n",
            "113/113 [==============================] - 15s 133ms/step - loss: 0.0064 - val_loss: 0.0102\n",
            "Epoch 50/50\n",
            "113/113 [==============================] - 15s 130ms/step - loss: 0.0064 - val_loss: 0.0098\n"
          ]
        }
      ]
    },
    {
      "cell_type": "code",
      "source": [
        "# Evaluate the model on the test set\n",
        "mse_improved = improved_model.evaluate(X_test, y_test)\n",
        "print(f'Test MSE: {mse_improved}')"
      ],
      "metadata": {
        "colab": {
          "base_uri": "https://localhost:8080/"
        },
        "id": "JygE9_5YeEez",
        "outputId": "a783c910-5ebe-46c9-a57e-d0a7d7608b02"
      },
      "execution_count": null,
      "outputs": [
        {
          "output_type": "stream",
          "name": "stdout",
          "text": [
            "80/80 [==============================] - 4s 48ms/step - loss: 0.0099\n",
            "Test MSE: 0.00985279306769371\n"
          ]
        }
      ]
    },
    {
      "cell_type": "code",
      "source": [
        "# Make predictions\n",
        "predictions_improved = improved_model.predict(X_test)"
      ],
      "metadata": {
        "colab": {
          "base_uri": "https://localhost:8080/"
        },
        "id": "ZZQptEvTii-c",
        "outputId": "50d762e9-c0fc-4c41-c9c5-ccd4fc59e36c"
      },
      "execution_count": null,
      "outputs": [
        {
          "output_type": "stream",
          "name": "stdout",
          "text": [
            "80/80 [==============================] - 4s 27ms/step\n"
          ]
        }
      ]
    },
    {
      "cell_type": "code",
      "source": [
        "# Inverse transform the predictions\n",
        "predictions_improved_extended = np.hstack((predictions_improved, np.zeros((predictions_improved.shape[0], len(data.columns) - 12))))\n",
        "predictions_improved_inverse = scaler.inverse_transform(predictions_improved_extended)[:, :12]\n"
      ],
      "metadata": {
        "id": "NRzyjbsSimGD"
      },
      "execution_count": null,
      "outputs": []
    },
    {
      "cell_type": "code",
      "source": [
        "# Inverse transform the true values\n",
        "y_test_extended = np.hstack((y_test, np.zeros((y_test.shape[0], len(data.columns) - 12))))\n",
        "y_test_inverse = scaler.inverse_transform(y_test_extended)[:, :12]\n"
      ],
      "metadata": {
        "id": "lXI5ffB2ipPB"
      },
      "execution_count": null,
      "outputs": []
    },
    {
      "cell_type": "code",
      "source": [
        "# Calculate MSE on the true values\n",
        "mse_true_improved = np.mean((predictions_improved_inverse - y_test_inverse) ** 2)\n",
        "print(f'Test MSE on true values (improved model): {mse_true_improved}')"
      ],
      "metadata": {
        "colab": {
          "base_uri": "https://localhost:8080/"
        },
        "id": "6J77pgdKiryU",
        "outputId": "c81b2ef5-9066-4e1d-da9a-1906cbfa2e48"
      },
      "execution_count": null,
      "outputs": [
        {
          "output_type": "stream",
          "name": "stdout",
          "text": [
            "Test MSE on true values (improved model): 71.2701894948691\n"
          ]
        }
      ]
    },
    {
      "cell_type": "markdown",
      "source": [
        "**Evaluación del Modelo Mejorado**  \n",
        "\n",
        "MSE del Modelo Mejorado:\n",
        "\n",
        "*   MSE Inicial: 124.9854\n",
        "*   MSE Mejorado: 71.2702\n",
        "\n",
        "El modelo mejorado ha reducido significativamente el error cuadrático medio (MSE) en comparación con el modelo inicial. Esto indica una mejora en la precisión de las predicciones del modelo.  "
      ],
      "metadata": {
        "id": "cKSVJYLbpVfB"
      }
    },
    {
      "cell_type": "markdown",
      "source": [
        "**12. Visualización de Resultados**  \n",
        "Visualiza las predicciones frente a los valores reales.\n"
      ],
      "metadata": {
        "id": "TkygZuWwi8mw"
      }
    },
    {
      "cell_type": "code",
      "source": [
        "# Plot predictions vs. true values for the test set\n",
        "def plot_predictions(true_values, predicted_values, num_predictions=50):\n",
        "    plt.figure(figsize=(14, 7))\n",
        "    plt.plot(true_values[:num_predictions, 0], label='True Values', marker='o')\n",
        "    plt.plot(predicted_values[:num_predictions, 0], label='Predicted Values', marker='x')\n",
        "    plt.title('Predictions vs True Values')\n",
        "    plt.xlabel('Time Step')\n",
        "    plt.ylabel('Energy Price')\n",
        "    plt.legend()\n",
        "    plt.show()\n",
        "\n",
        "# Visualize the results\n",
        "plot_predictions(y_test_inverse, predictions_improved_inverse)\n"
      ],
      "metadata": {
        "colab": {
          "base_uri": "https://localhost:8080/",
          "height": 641
        },
        "id": "Ri1rEWzmitVg",
        "outputId": "ef689b9f-3610-4cbe-9cef-74b1bda0af06"
      },
      "execution_count": null,
      "outputs": [
        {
          "output_type": "display_data",
          "data": {
            "text/plain": [
              "<Figure size 1400x700 with 1 Axes>"
            ],
            "image/png": "[encoded data removed]"
          },
          "metadata": {}
        }
      ]
    },
    {
      "cell_type": "markdown",
      "source": [
        "**Análisis del Gráfico**  \n",
        "\n",
        "* **Tendencias y Patrones:** Las predicciones del modelo mejorado muestran una\n",
        "buena correspondencia con los valores reales, capturando las fluctuaciones en los precios de la energía.\n",
        "Los picos y valles en las predicciones coinciden en gran medida con los picos y valles de los valores reales, lo que indica que el modelo puede predecir tanto aumentos como disminuciones en los precios de la energía.\n",
        "\n",
        "\n",
        "* **Desviaciones:** Aunque las predicciones son generalmente precisas, hay algunas desviaciones menores donde las predicciones no coinciden exactamente con los valores reales. Estas discrepancias podrían ser investigadas y potencialmente mitigadas con más ajustes en el modelo o más datos de entrenamiento."
      ],
      "metadata": {
        "id": "ggCCFzH6rvUP"
      }
    },
    {
      "cell_type": "markdown",
      "source": [
        "### Conclusiones de los Resultados Obtenidos\n",
        "\n",
        "La reducción del MSE de 124.9854 a 71.2702 demuestra que los ajustes realizados en el modelo han mejorado considerablemente su rendimiento.\n",
        "A pesar de las mejoras logradas, siempre hay margen para optimizar aún más el modelo."
      ],
      "metadata": {
        "id": "4g00q3eqpSaK"
      }
    },
    {
      "cell_type": "code",
      "source": [],
      "metadata": {
        "id": "Ucq4oyf9sI3O"
      },
      "execution_count": null,
      "outputs": []
    }
  ]
}